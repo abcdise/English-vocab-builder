{
 "cells": [
  {
   "cell_type": "code",
   "execution_count": null,
   "metadata": {},
   "outputs": [],
   "source": [
    "import sys\n",
    "sys.path.insert(1, '../src')\n",
    "from Stack import Stack\n",
    "import json"
   ]
  },
  {
   "cell_type": "code",
   "execution_count": null,
   "metadata": {},
   "outputs": [],
   "source": [
    "category = 'Vocab Builder'\n",
    "\n",
    "notes_paths = 'Notes.json'\n",
    "with open('./src/paths.json') as f:\n",
    "    paths = json.load(f)\n",
    "\n",
    "schedule_path = paths[category]['schedule']\n",
    "cards_path = paths[category]['cards']\n",
    "\n",
    "stack = Stack(schedule_path=schedule_path, cards_path=cards_path)\n",
    "stack.import_cards(json_path=notes_paths)"
   ]
  }
 ],
 "metadata": {
  "kernelspec": {
   "display_name": ".venv",
   "language": "python",
   "name": "python3"
  },
  "language_info": {
   "codemirror_mode": {
    "name": "ipython",
    "version": 3
   },
   "file_extension": ".py",
   "mimetype": "text/x-python",
   "name": "python",
   "nbconvert_exporter": "python",
   "pygments_lexer": "ipython3",
   "version": "3.12.1"
  }
 },
 "nbformat": 4,
 "nbformat_minor": 2
}
