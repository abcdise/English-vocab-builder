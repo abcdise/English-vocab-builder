{
 "cells": [
  {
   "cell_type": "code",
   "execution_count": 1,
   "metadata": {},
   "outputs": [],
   "source": [
    "import sys\n",
    "sys.path.insert(1, '../scr')\n",
    "import pyperclip\n",
    "import json\n",
    "import csv\n",
    "from PhraseDictionary import PhraseDictionary\n",
    "from Collins import Collins_writer\n",
    "\n",
    "def read_csv_to_list(file_path:str):\n",
    "    with open(file_path, 'r') as csv_file:\n",
    "        csv_reader = csv.reader(csv_file)\n",
    "        return [row[i] for row in csv_reader for i in range(len(row)) if row[i]]"
   ]
  },
  {
   "cell_type": "markdown",
   "metadata": {},
   "source": [
    "### Look up words in Collins Dictionary"
   ]
  },
  {
   "cell_type": "code",
   "execution_count": null,
   "metadata": {},
   "outputs": [],
   "source": [
    "word_list_path = '../scr/resources/Lists/SAT/SAT conventional word list 3.csv'\n",
    "category = 'Vocab Explorer'\n",
    "# word_list_path = 'vocab builder notes.csv'\n",
    "# category = 'Vocab Builder'\n",
    "\n",
    "word_list = read_csv_to_list(word_list_path)\n",
    "writer = Collins_writer()\n",
    "partial_word_list = word_list\n",
    "writer.look_up(word_list=partial_word_list)"
   ]
  },
  {
   "cell_type": "code",
   "execution_count": null,
   "metadata": {},
   "outputs": [],
   "source": [
    "with open(f'../scr/config/{category}/config.json') as file:\n",
    "    config = json.load(file)\n",
    "\n",
    "for word in word_list:\n",
    "    if word not in set(config['all']):\n",
    "        config['all'].append(word)\n",
    "        config['new'].append(word)\n",
    "\n",
    "with open(f'../scr/config/{category}/config.json', 'w') as file:\n",
    "    json.dump(config, file, indent=4, ensure_ascii=False)"
   ]
  },
  {
   "cell_type": "markdown",
   "metadata": {},
   "source": [
    "### Look up phrases"
   ]
  },
  {
   "cell_type": "code",
   "execution_count": 5,
   "metadata": {},
   "outputs": [
    {
     "name": "stdout",
     "output_type": "stream",
     "text": [
      "Please go to Chat GPT to generate the JSON file.\n"
     ]
    }
   ],
   "source": [
    "notes_paths = 'phrase notes.json'\n",
    "start_idx = 1\n",
    "end_idx = 10\n",
    "\n",
    "phrase_dictionary = PhraseDictionary()\n",
    "phrase_dictionary.import_initial_JSON(notes_paths)\n",
    "phrase_dictionary.get_prompt(start_index=start_idx-1, end_index=end_idx)"
   ]
  },
  {
   "cell_type": "code",
   "execution_count": 6,
   "metadata": {},
   "outputs": [
    {
     "name": "stdout",
     "output_type": "stream",
     "text": [
      "==== Import successful ====\n"
     ]
    }
   ],
   "source": [
    "refined_dict_text = pyperclip.paste()\n",
    "refined_dict = json.loads(refined_dict_text)\n",
    "phrase_dictionary.import_new_entries(refined_dict)"
   ]
  }
 ],
 "metadata": {
  "kernelspec": {
   "display_name": ".venv",
   "language": "python",
   "name": "python3"
  },
  "language_info": {
   "codemirror_mode": {
    "name": "ipython",
    "version": 3
   },
   "file_extension": ".py",
   "mimetype": "text/x-python",
   "name": "python",
   "nbconvert_exporter": "python",
   "pygments_lexer": "ipython3",
   "version": "3.12.1"
  }
 },
 "nbformat": 4,
 "nbformat_minor": 2
}
