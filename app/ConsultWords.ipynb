{
 "cells": [
  {
   "cell_type": "code",
   "execution_count": null,
   "metadata": {},
   "outputs": [],
   "source": [
    "import sys\n",
    "sys.path.insert(1, '../scr')\n",
    "import pyperclip\n",
    "import json\n",
    "from PhraseDictionary import PhraseDictionary\n",
    "from Collins import Collins_writer, Collins_entry, api_key"
   ]
  },
  {
   "cell_type": "markdown",
   "metadata": {},
   "source": [
    "### Look up words in Collins Dictionary"
   ]
  },
  {
   "cell_type": "code",
   "execution_count": null,
   "metadata": {},
   "outputs": [],
   "source": [
    "word_list_path = '../scr/resources/Lists/SAT/SAT conventional word list 2.csv'\n",
    "\n",
    "with open(word_list_path, 'r') as file:\n",
    "    lines = file.readlines()\n",
    "\n",
    "word_list = lines[0].split(',')\n",
    "writer = Collins_writer()\n",
    "partial_word_list = word_list\n",
    "writer.look_up(word_list=partial_word_list)"
   ]
  },
  {
   "cell_type": "markdown",
   "metadata": {},
   "source": [
    "### Look up phrases"
   ]
  },
  {
   "cell_type": "code",
   "execution_count": null,
   "metadata": {},
   "outputs": [],
   "source": [
    "notes_paths = 'notes.json'\n",
    "\n",
    "phrase_dictionary = PhraseDictionary()\n",
    "phrase_dictionary.import_initial_JSON(notes_paths)\n",
    "phrase_dictionary.get_prompt()"
   ]
  },
  {
   "cell_type": "code",
   "execution_count": null,
   "metadata": {},
   "outputs": [],
   "source": [
    "refined_dict_text = pyperclip.paste()\n",
    "refined_dict = json.loads(refined_dict_text)\n",
    "phrase_dictionary.import_new_entries(refined_dict)"
   ]
  }
 ],
 "metadata": {
  "kernelspec": {
   "display_name": ".venv",
   "language": "python",
   "name": "python3"
  },
  "language_info": {
   "codemirror_mode": {
    "name": "ipython",
    "version": 3
   },
   "file_extension": ".py",
   "mimetype": "text/x-python",
   "name": "python",
   "nbconvert_exporter": "python",
   "pygments_lexer": "ipython3",
   "version": "3.12.1"
  }
 },
 "nbformat": 4,
 "nbformat_minor": 2
}
