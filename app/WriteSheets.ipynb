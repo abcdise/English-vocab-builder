{
 "cells": [
  {
   "cell_type": "code",
   "execution_count": 1,
   "metadata": {},
   "outputs": [],
   "source": [
    "import sys\n",
    "sys.path.insert(1, '../scr')\n",
    "from PhraseDictionary import PhraseDictionary\n",
    "from toolbox import Configurator, AnkiCommunicator, AnkiCardWriter\n",
    "from DictionaryReader import CollinsReader, PhraseReader\n",
    "from ExerciseWriter import ExerciseWriter\n",
    "from Exercise import ExerciseFactory, ExerciseGatherer, ExampleSentences\n",
    "import pyperclip\n",
    "from pathlib import Path\n",
    "import shutil\n",
    "import json\n",
    "\n",
    "\n",
    "def copy_folder(source_folder, destination_folder) -> None:\n",
    "    destination_path = Path(destination_folder)\n",
    "    source_path = Path(source_folder)\n",
    "    if not destination_path.exists():\n",
    "        shutil.copytree(source_path, destination_path)"
   ]
  },
  {
   "cell_type": "markdown",
   "metadata": {},
   "source": [
    "### Initial set-up"
   ]
  },
  {
   "cell_type": "code",
   "execution_count": 2,
   "metadata": {},
   "outputs": [],
   "source": [
    "# User inputs\n",
    "date = 20240729\n",
    "\n",
    "\n",
    "# Make a new folder\n",
    "template_folder = '../scr/resources/Templates'\n",
    "export_folder = f'./Exports/{date}'\n",
    "copy_folder(template_folder, export_folder)\n",
    "\n",
    "# Paths of the templates\n",
    "def_template_path = '/Definition/template.tex'\n",
    "def_completion_template_path = '/Definition_Completion/template.tex'\n",
    "reading_template_path = '/Reading/template.tex'\n",
    "gap_filling_template_path = '/Fill-in-the-gap/template.tex'\n",
    "paraphrase_template_path = '/Paraphrase/template.tex'\n",
    "dialogue_template_path = '/Dialogue/template.tex'\n",
    "\n",
    "# Paths of the output folder\n",
    "def_output_folder = export_folder + '/Definition'\n",
    "def_completion_output_folder = export_folder + '/Definition_completion'\n",
    "reading_output_folder = export_folder + '/Reading'\n",
    "gap_filling_output_folder = export_folder + '/Fill-in-the-gap'\n",
    "paraphrase_output_folder = export_folder + '/Paraphrase'\n",
    "dialogue_output_folder = export_folder + '/Dialogue'\n",
    "\n",
    "# Creation of writers\n",
    "factory = ExerciseFactory()\n",
    "def_gatherer = ExerciseGatherer()\n",
    "def_writer = ExerciseWriter(gatherer=def_gatherer, template_path=def_template_path, output_folder=def_output_folder)\n",
    "def_completion_gatherer = ExerciseGatherer()\n",
    "def_completion_writer = ExerciseWriter(gatherer=def_completion_gatherer, template_path=def_completion_template_path, output_folder=def_completion_output_folder)\n",
    "reading_gatherer = ExerciseGatherer()\n",
    "reading_exercise_writer = ExerciseWriter(gatherer=reading_gatherer, template_path=reading_template_path, output_folder=reading_output_folder)\n",
    "gap_filling_gatherer = ExerciseGatherer()\n",
    "gap_filling_exercise_writer = ExerciseWriter(gatherer=gap_filling_gatherer, template_path=gap_filling_template_path, output_folder=gap_filling_output_folder)\n",
    "paraphrase_gatherer = ExerciseGatherer()\n",
    "paraphrase_exercise_writer = ExerciseWriter(gatherer=paraphrase_gatherer, template_path=paraphrase_template_path, output_folder=paraphrase_output_folder)\n",
    "dialogue_gatherer = ExerciseGatherer()\n",
    "dialogue_exercise_writer = ExerciseWriter(gatherer=dialogue_gatherer, template_path=dialogue_template_path, output_folder=dialogue_output_folder)"
   ]
  },
  {
   "cell_type": "markdown",
   "metadata": {},
   "source": [
    "### Configuration for `Vocab Explorer`"
   ]
  },
  {
   "cell_type": "code",
   "execution_count": 3,
   "metadata": {},
   "outputs": [
    {
     "name": "stdout",
     "output_type": "stream",
     "text": [
      "Go to Anki and import the cards from the file Anki Cards.csv\n"
     ]
    }
   ],
   "source": [
    "category = 'Vocab Explorer'\n",
    "# category = 'Vocab Builder'\n",
    "num_of_words_to_learn = 30\n",
    "\n",
    "configurator = Configurator(json_path=f'../scr/config/{category}/config.json')\n",
    "tomorrow_new = configurator.get_n_words_to_learn(num_of_words_to_learn)\n",
    "reader = CollinsReader(word_list=tomorrow_new)\n",
    "entry_list = reader.get_word_entry_list()\n",
    "writer = AnkiCardWriter(entry_list)\n",
    "Path(f'Exports/{date}_{category}').mkdir(parents=True, exist_ok=True)\n",
    "writer.write_cards(f'Exports/{date}_{category}/Anki Cards.csv')\n",
    "print('Go to Anki and import the cards from the file Anki Cards.csv')\n",
    "configurator.study_n_words(num_of_words_to_learn)"
   ]
  },
  {
   "cell_type": "code",
   "execution_count": 5,
   "metadata": {},
   "outputs": [
    {
     "name": "stdout",
     "output_type": "stream",
     "text": [
      "\n",
      "Number of new words: 30;\n",
      "Number of old words: 46.\n",
      "\n"
     ]
    }
   ],
   "source": [
    "anki = AnkiCommunicator()\n",
    "tomorrow_new_with_def = reader.get_concise_dictionary()\n",
    "tomorrow_review_with_def = anki.get_words_for_tomorrow(deck_name=category, new=False)\n",
    "tomorrow_review = list(tomorrow_review_with_def.keys())\n",
    "print(f'''\n",
    "Number of new words: {len(tomorrow_new)};\n",
    "Number of old words: {len(tomorrow_review)}.\n",
    "''')"
   ]
  },
  {
   "cell_type": "markdown",
   "metadata": {},
   "source": [
    "### Configuration for `Everyday English`"
   ]
  },
  {
   "cell_type": "code",
   "execution_count": 28,
   "metadata": {},
   "outputs": [
    {
     "name": "stdout",
     "output_type": "stream",
     "text": [
      "Go to Anki and import the cards from the file Anki Cards.csv\n"
     ]
    }
   ],
   "source": [
    "category = 'Everyday English'\n",
    "num_of_words_to_learn = 0\n",
    "\n",
    "configurator = Configurator(json_path=f'../scr/config/{category}/config.json')\n",
    "tomorrow_new = configurator.get_n_words_to_learn(num_of_words_to_learn)\n",
    "reader = PhraseReader(word_list=tomorrow_new)\n",
    "entry_list = reader.get_word_entry_list()\n",
    "writer = AnkiCardWriter(entry_list)\n",
    "Path(f'Exports/{date}_{category}').mkdir(parents=True, exist_ok=True)\n",
    "writer.write_cards(f'Exports/{date}_{category}/Anki Cards.csv')\n",
    "print('Go to Anki and import the cards from the file Anki Cards.csv')\n",
    "configurator.study_n_words(num_of_words_to_learn)"
   ]
  },
  {
   "cell_type": "code",
   "execution_count": 31,
   "metadata": {},
   "outputs": [
    {
     "name": "stdout",
     "output_type": "stream",
     "text": [
      "\n",
      "Number of new words: 0;\n",
      "Number of old words: 7.\n",
      "\n"
     ]
    }
   ],
   "source": [
    "anki = AnkiCommunicator()\n",
    "tomorrow_new_with_def = reader.get_concise_dictionary()\n",
    "tomorrow_review_with_def = anki.get_words_for_tomorrow(deck_name=category, new=False)\n",
    "tomorrow_review = list(tomorrow_review_with_def.keys())\n",
    "print(f'''\n",
    "Number of new words: {len(tomorrow_new)};\n",
    "Number of old words: {len(tomorrow_review)}.\n",
    "''')"
   ]
  },
  {
   "cell_type": "markdown",
   "metadata": {},
   "source": [
    "### 1. Definition"
   ]
  },
  {
   "cell_type": "markdown",
   "metadata": {},
   "source": [
    "#### Set the word list and the set index here and get the prompt to create definitions"
   ]
  },
  {
   "cell_type": "code",
   "execution_count": 8,
   "metadata": {},
   "outputs": [],
   "source": [
    "def_start_idx = 21\n",
    "def_end_idx = 30\n",
    "def_set_index = 3\n",
    "\n",
    "def_word_list = tomorrow_new[def_start_idx-1:def_end_idx]\n",
    "definitions_set = factory.create_exercise(exercise_type='Definition', word_entries={word: [\"\"] for word in def_word_list})\n",
    "definitions_set.import_definition_from_dictionary()\n",
    "definitions_set.finish_import()\n",
    "def_gatherer.import_exercise(definitions_set)\n",
    "def_writer.render_template(set_index=def_set_index)"
   ]
  },
  {
   "cell_type": "markdown",
   "metadata": {},
   "source": [
    "### 2. Definition and Example Completion"
   ]
  },
  {
   "cell_type": "markdown",
   "metadata": {},
   "source": [
    "#### Enter the index"
   ]
  },
  {
   "cell_type": "code",
   "execution_count": null,
   "metadata": {},
   "outputs": [],
   "source": [
    "def_completion_start_idx = 37\n",
    "def_completion_end_idx = 48\n",
    "def_completion_set_index = 4\n",
    "\n",
    "def_completion_word_list = tomorrow_review[def_completion_start_idx-1:def_completion_end_idx]\n",
    "definition_completion_exercise = factory.create_exercise(exercise_type='Definition and Example Completion', \n",
    "                                                         word_entries={term: tomorrow_review_with_def[term] for term in def_completion_word_list})\n",
    "definition_completion_exercise.generate_exercise()\n",
    "definition_completion_exercise.finish_import()\n",
    "def_completion_gatherer.import_exercise(definition_completion_exercise)\n",
    "def_completion_writer.render_template(def_completion_set_index)"
   ]
  },
  {
   "cell_type": "markdown",
   "metadata": {},
   "source": [
    "### 3. Reading"
   ]
  },
  {
   "cell_type": "markdown",
   "metadata": {},
   "source": [
    "#### Enter the set index and the word list here"
   ]
  },
  {
   "cell_type": "code",
   "execution_count": null,
   "metadata": {},
   "outputs": [],
   "source": [
    "reading_start_idx = 11\n",
    "reading_end_idx = 15\n",
    "reading_set_index = 1\n",
    "reading_word_list = tomorrow_review[reading_start_idx-1:reading_end_idx]\n",
    "reading_exercise = factory.create_exercise(exercise_type='Reading', word_entries={term: tomorrow_review_with_def[term] for term in reading_word_list})"
   ]
  },
  {
   "cell_type": "markdown",
   "metadata": {},
   "source": [
    "#### Paste the passage here"
   ]
  },
  {
   "cell_type": "code",
   "execution_count": null,
   "metadata": {},
   "outputs": [],
   "source": [
    "passage = pyperclip.paste()\n",
    "reading_exercise.create_prompt(passage=passage)\n",
    "reading_exercise.get_prompt()"
   ]
  },
  {
   "cell_type": "markdown",
   "metadata": {},
   "source": [
    "#### Paste the dialogue here"
   ]
  },
  {
   "cell_type": "code",
   "execution_count": null,
   "metadata": {},
   "outputs": [],
   "source": [
    "dialogue = pyperclip.paste()\n",
    "\n",
    "reading_exercise.import_dialogue(dialogue=dialogue)\n",
    "reading_exercise.finish_import()\n",
    "reading_gatherer.import_exercise(exercise=reading_exercise)\n",
    "reading_exercise_writer.render_template(set_index=reading_set_index)"
   ]
  },
  {
   "cell_type": "markdown",
   "metadata": {},
   "source": [
    "### 4. Vocabulary exercises"
   ]
  },
  {
   "cell_type": "markdown",
   "metadata": {},
   "source": [
    "#### Set the word list here and get the prompt to create example sentences"
   ]
  },
  {
   "cell_type": "code",
   "execution_count": 25,
   "metadata": {},
   "outputs": [],
   "source": [
    "vocab_start_idx = 31\n",
    "vocab_end_idx = 46\n",
    "\n",
    "# vocab_word_list = tomorrow_new[vocab_start_idx-1:vocab_end_idx]\n",
    "# vocab_word_entries = {term: tomorrow_new_with_def[term] for term in vocab_word_list}\n",
    "\n",
    "vocab_word_list = tomorrow_review[vocab_start_idx-1:vocab_end_idx]\n",
    "vocab_word_entries = {term: tomorrow_review_with_def[term] for term in vocab_word_list}\n",
    "\n",
    "\n",
    "example_sentences = ExampleSentences(word_entries=vocab_word_entries)\n",
    "example_sentences.create_prompt()\n",
    "example_sentences.get_prompt()"
   ]
  },
  {
   "cell_type": "markdown",
   "metadata": {},
   "source": [
    "#### Paste the example sentences here"
   ]
  },
  {
   "cell_type": "code",
   "execution_count": 26,
   "metadata": {},
   "outputs": [],
   "source": [
    "sentences = pyperclip.paste()\n",
    "example_sentences.import_sentences(text=sentences)"
   ]
  },
  {
   "cell_type": "markdown",
   "metadata": {},
   "source": [
    "#### Fill in the gap"
   ]
  },
  {
   "cell_type": "markdown",
   "metadata": {},
   "source": [
    "##### Enter the set index here"
   ]
  },
  {
   "cell_type": "code",
   "execution_count": 27,
   "metadata": {},
   "outputs": [],
   "source": [
    "gap_filling_set_index = 6\n",
    "\n",
    "gap_filling_exercise = factory.create_exercise(exercise_type='Fill in the gap', word_entries=example_sentences.word_entries, example_sentences=example_sentences)\n",
    "gap_filling_exercise.finish_import()\n",
    "gap_filling_gatherer.import_exercise(exercise=gap_filling_exercise)\n",
    "gap_filling_exercise_writer.render_template(set_index=gap_filling_set_index)"
   ]
  },
  {
   "cell_type": "markdown",
   "metadata": {},
   "source": [
    "#### Paraphrase"
   ]
  },
  {
   "cell_type": "code",
   "execution_count": null,
   "metadata": {},
   "outputs": [],
   "source": [
    "pyperclip.copy(example_sentences.get_second_prompt())"
   ]
  },
  {
   "cell_type": "markdown",
   "metadata": {},
   "source": [
    "##### Paste the json string here"
   ]
  },
  {
   "cell_type": "code",
   "execution_count": null,
   "metadata": {},
   "outputs": [],
   "source": [
    "analyzed_sentences = pyperclip.paste()\n",
    "example_sentences.import_sentence_analysis(text=analyzed_sentences)"
   ]
  },
  {
   "cell_type": "markdown",
   "metadata": {},
   "source": [
    "##### Enter the set index here"
   ]
  },
  {
   "cell_type": "code",
   "execution_count": null,
   "metadata": {},
   "outputs": [],
   "source": [
    "paraphrase_set_index = 2\n",
    "\n",
    "paraphrase_exercise = factory.create_exercise(exercise_type='Paraphrase', word_entries=example_sentences.word_entries, example_sentences=example_sentences)\n",
    "paraphrase_exercise.finish_import()\n",
    "paraphrase_gatherer.import_exercise(exercise=paraphrase_exercise)\n",
    "paraphrase_exercise_writer.render_template(set_index=paraphrase_set_index)"
   ]
  },
  {
   "cell_type": "markdown",
   "metadata": {},
   "source": [
    "### 5. Dialogue"
   ]
  },
  {
   "cell_type": "markdown",
   "metadata": {},
   "source": [
    "#### Enter the set index here"
   ]
  },
  {
   "cell_type": "code",
   "execution_count": 34,
   "metadata": {},
   "outputs": [],
   "source": [
    "dialogue_start_idx = 1\n",
    "dialogue_end_idx = 12\n",
    "dialogue_set_index = 1\n",
    "\n",
    "# dialogue_word_list = tomorrow_new[dialogue_start_idx-1:dialogue_end_idx]\n",
    "dialogue_word_list = tomorrow_review[dialogue_start_idx-1:dialogue_end_idx]\n",
    "dialogue_exercise = factory.create_exercise(exercise_type='Dialogue', word_entries={term: tomorrow_review_with_def[term] for term in dialogue_word_list})\n",
    "dialogue_exercise.get_prompt()"
   ]
  },
  {
   "cell_type": "code",
   "execution_count": 35,
   "metadata": {},
   "outputs": [],
   "source": [
    "dialogue_dict_text = pyperclip.paste()\n",
    "dialogue_dict = json.loads(dialogue_dict_text)\n",
    "dialogue_exercise.generate_exercise(dialogue_dict=dialogue_dict)\n",
    "dialogue_exercise.finish_import()\n",
    "dialogue_gatherer.import_exercise(exercise=dialogue_exercise)\n",
    "dialogue_exercise_writer.render_template(set_index=dialogue_set_index)"
   ]
  }
 ],
 "metadata": {
  "kernelspec": {
   "display_name": ".venv",
   "language": "python",
   "name": "python3"
  },
  "language_info": {
   "codemirror_mode": {
    "name": "ipython",
    "version": 3
   },
   "file_extension": ".py",
   "mimetype": "text/x-python",
   "name": "python",
   "nbconvert_exporter": "python",
   "pygments_lexer": "ipython3",
   "version": "3.12.1"
  }
 },
 "nbformat": 4,
 "nbformat_minor": 2
}
