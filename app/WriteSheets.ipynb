{
 "cells": [
  {
   "cell_type": "code",
   "execution_count": null,
   "metadata": {},
   "outputs": [],
   "source": [
    "import sys\n",
    "sys.path.insert(1, '../scr')\n",
    "from PhraseDictionary import PhraseDictionary\n",
    "from toolbox import Configurator, AnkiCommunicator, AnkiCardWriter\n",
    "from DictionaryReader import CollinsReader, PhraseReader\n",
    "from ExerciseWriter import ExerciseWriter\n",
    "from Exercise import ExerciseFactory, ExerciseGatherer, ExampleSentences\n",
    "import pyperclip\n",
    "from pathlib import Path\n",
    "import shutil\n",
    "import json\n",
    "\n",
    "\n",
    "def copy_folder(source_folder, destination_folder) -> None:\n",
    "    destination_path = Path(destination_folder)\n",
    "    source_path = Path(source_folder)\n",
    "    if not destination_path.exists():\n",
    "        shutil.copytree(source_path, destination_path)"
   ]
  },
  {
   "cell_type": "markdown",
   "metadata": {},
   "source": [
    "### Initial set-up"
   ]
  },
  {
   "cell_type": "code",
   "execution_count": null,
   "metadata": {},
   "outputs": [],
   "source": [
    "# User inputs\n",
    "date = 20240512\n",
    "\n",
    "\n",
    "# Make a new folder\n",
    "template_folder = '../scr/resources/Templates'\n",
    "export_folder = f'./Exports/{date}'\n",
    "copy_folder(template_folder, export_folder)\n",
    "\n",
    "# Paths of the templates\n",
    "def_template_path = '/Definition/template.tex'\n",
    "def_completion_template_path = '/Definition_Completion/template.tex'\n",
    "reading_template_path = '/Reading/template.tex'\n",
    "gap_filling_template_path = '/Fill-in-the-gap/template.tex'\n",
    "paraphrase_template_path = '/Paraphrase/template.tex'\n",
    "dialogue_template_path = '/Dialogue/template.tex'\n",
    "\n",
    "# Paths of the output folder\n",
    "def_output_folder = export_folder + '/Definition'\n",
    "def_completion_output_folder = export_folder + '/Definition_completion'\n",
    "reading_output_folder = export_folder + '/Reading'\n",
    "gap_filling_output_folder = export_folder + '/Fill-in-the-gap'\n",
    "paraphrase_output_folder = export_folder + '/Paraphrase'\n",
    "dialogue_output_folder = export_folder + '/Dialogue'\n",
    "\n",
    "# Creation of writers\n",
    "factory = ExerciseFactory()\n",
    "def_gatherer = ExerciseGatherer()\n",
    "def_writer = ExerciseWriter(gatherer=def_gatherer, template_path=def_template_path, output_folder=def_output_folder)\n",
    "def_completion_gatherer = ExerciseGatherer()\n",
    "def_completion_writer = ExerciseWriter(gatherer=def_completion_gatherer, template_path=def_completion_template_path, output_folder=def_completion_output_folder)\n",
    "reading_gatherer = ExerciseGatherer()\n",
    "reading_exercise_writer = ExerciseWriter(gatherer=reading_gatherer, template_path=reading_template_path, output_folder=reading_output_folder)\n",
    "gap_filling_gatherer = ExerciseGatherer()\n",
    "gap_filling_exercise_writer = ExerciseWriter(gatherer=gap_filling_gatherer, template_path=gap_filling_template_path, output_folder=gap_filling_output_folder)\n",
    "paraphrase_gatherer = ExerciseGatherer()\n",
    "paraphrase_exercise_writer = ExerciseWriter(gatherer=paraphrase_gatherer, template_path=paraphrase_template_path, output_folder=paraphrase_output_folder)\n",
    "dialogue_gatherer = ExerciseGatherer()\n",
    "dialogue_exercise_writer = ExerciseWriter(gatherer=dialogue_gatherer, template_path=dialogue_template_path, output_folder=dialogue_output_folder)"
   ]
  },
  {
   "cell_type": "code",
   "execution_count": null,
   "metadata": {},
   "outputs": [],
   "source": [
    "# category = 'Vocab Workout'\n",
    "# category = 'Vocab Explorer'\n",
    "category = 'Everyday English'\n",
    "num_of_words_to_learn = 20\n",
    "\n",
    "\n",
    "configurator = Configurator(json_path=f'../scr/config/{category}/config.json')\n",
    "\n",
    "tmp_dict = dict()\n",
    "with open('tmp.json', 'w') as file:\n",
    "    json.dump(tmp_dict, file)\n",
    "\n",
    "# Get the words to learn and review for tomorrow\n",
    "tomorrow_new = configurator.get_n_words_to_learn(num_of_words_to_learn)\n",
    "tmp_dict['tomorrow new'] = tomorrow_new\n",
    "\n",
    "anki = AnkiCommunicator()\n",
    "tomorrow_review = anki.get_words_for_tomorrow(deck_name=category, item='Front')\n",
    "tmp_dict['tomorrow review'] = tomorrow_review\n",
    "\n",
    "tomorrow_all = tomorrow_new + tomorrow_review\n",
    "print(f'''\n",
    "Number of all words: {len(tomorrow_all)};\n",
    "Number of new words: {len(tomorrow_new)};\n",
    "Number of old words: {len(tomorrow_review)}.\n",
    "''')\n",
    "with open('tmp.json', 'w') as file:\n",
    "    json.dump(tmp_dict, file, indent=4)"
   ]
  },
  {
   "cell_type": "markdown",
   "metadata": {},
   "source": [
    "### Definition"
   ]
  },
  {
   "cell_type": "markdown",
   "metadata": {},
   "source": [
    "#### Set the word list and the set index here and get the prompt to create definitions"
   ]
  },
  {
   "cell_type": "code",
   "execution_count": null,
   "metadata": {},
   "outputs": [],
   "source": [
    "def_start_idx = 31\n",
    "def_end_idx = 40\n",
    "def_set_index = 4\n",
    "\n",
    "def_word_list = tomorrow_new[def_start_idx-1:def_end_idx]\n",
    "definitions_set = factory.create_exercise(exercise_type='Definition', word_list=def_word_list)\n",
    "definitions_set.import_definition_from_dictionary()\n",
    "definitions_set.finish_import()\n",
    "def_gatherer.import_exercise(definitions_set)\n",
    "def_writer.render_template(set_index=def_set_index)"
   ]
  },
  {
   "cell_type": "markdown",
   "metadata": {},
   "source": [
    "### Definition and Example Completion"
   ]
  },
  {
   "cell_type": "markdown",
   "metadata": {},
   "source": [
    "#### Enter the index"
   ]
  },
  {
   "cell_type": "code",
   "execution_count": null,
   "metadata": {},
   "outputs": [],
   "source": [
    "def_completion_start_idx = 1\n",
    "def_completion_end_idx = 11\n",
    "def_completion_set_index = 5\n",
    "\n",
    "# def_completion_word_list = tomorrow_new[def_completion_start_idx-1:def_completion_end_idx]\n",
    "def_completion_word_list = tomorrow_review[def_completion_start_idx-1:def_completion_end_idx]\n",
    "\n",
    "\n",
    "definition_completion_exercise = factory.create_exercise(exercise_type='Definition and Example Completion', \n",
    "                                                         word_list=def_completion_word_list)\n",
    "definition_completion_exercise.generate_exercise()\n",
    "definition_completion_exercise.finish_import()\n",
    "def_completion_gatherer.import_exercise(definition_completion_exercise)\n",
    "def_completion_writer.render_template(def_completion_set_index)"
   ]
  },
  {
   "cell_type": "markdown",
   "metadata": {},
   "source": [
    "### Reading"
   ]
  },
  {
   "cell_type": "markdown",
   "metadata": {},
   "source": [
    "#### Enter the set index and the word list here"
   ]
  },
  {
   "cell_type": "code",
   "execution_count": null,
   "metadata": {},
   "outputs": [],
   "source": [
    "reading_start_idx = 1\n",
    "reading_end_idx = 15\n",
    "reading_set_index = 1\n",
    "reading_word_list = tomorrow_review[reading_start_idx-1:reading_end_idx]\n",
    "reading_exercise = factory.create_exercise(exercise_type='Reading', word_list=reading_word_list)"
   ]
  },
  {
   "cell_type": "markdown",
   "metadata": {},
   "source": [
    "#### Paste the initial passage here"
   ]
  },
  {
   "cell_type": "code",
   "execution_count": null,
   "metadata": {},
   "outputs": [],
   "source": [
    "initial_passage = pyperclip.paste()\n",
    "reading_exercise.create_prompt(passage=initial_passage)\n",
    "reading_exercise.get_prompt()"
   ]
  },
  {
   "cell_type": "markdown",
   "metadata": {},
   "source": [
    "#### Paste the final passage here"
   ]
  },
  {
   "cell_type": "code",
   "execution_count": null,
   "metadata": {},
   "outputs": [],
   "source": [
    "final_passage = pyperclip.paste()\n",
    "\n",
    "reading_exercise.import_passage(text=final_passage)"
   ]
  },
  {
   "cell_type": "markdown",
   "metadata": {},
   "source": [
    "#### Paste the multiple choice questions here"
   ]
  },
  {
   "cell_type": "code",
   "execution_count": null,
   "metadata": {},
   "outputs": [],
   "source": [
    "multiple_choice = pyperclip.paste()\n",
    "reading_exercise.import_exercise(text=multiple_choice)"
   ]
  },
  {
   "cell_type": "markdown",
   "metadata": {},
   "source": [
    "##### Paste the solution here"
   ]
  },
  {
   "cell_type": "code",
   "execution_count": null,
   "metadata": {},
   "outputs": [],
   "source": [
    "reading_solution = pyperclip.paste()\n",
    "reading_exercise.import_solution(text=reading_solution)\n",
    "reading_exercise.finish_import()\n",
    "reading_gatherer.import_exercise(exercise=reading_exercise)\n",
    "reading_exercise_writer.render_template(set_index=reading_set_index)"
   ]
  },
  {
   "cell_type": "markdown",
   "metadata": {},
   "source": [
    "### Vocabulary exercises"
   ]
  },
  {
   "cell_type": "markdown",
   "metadata": {},
   "source": [
    "#### Set the word list here and get the prompt to create example sentences"
   ]
  },
  {
   "cell_type": "code",
   "execution_count": null,
   "metadata": {},
   "outputs": [],
   "source": [
    "vocab_start_idx = 1\n",
    "vocab_end_idx = 11\n",
    "repetition = 'two'\n",
    "\n",
    "# vocab_word_list = tomorrow_new[vocab_start_idx-1:vocab_end_idx]\n",
    "vocab_word_list = tomorrow_review[vocab_start_idx-1:vocab_end_idx]\n",
    "\n",
    "example_sentences = ExampleSentences(vocab_word_list)\n",
    "example_sentences.create_prompt(number_of_sentences=repetition)\n",
    "example_sentences.get_prompt()"
   ]
  },
  {
   "cell_type": "markdown",
   "metadata": {},
   "source": [
    "#### Paste the example sentences here"
   ]
  },
  {
   "cell_type": "code",
   "execution_count": null,
   "metadata": {},
   "outputs": [],
   "source": [
    "sentences = pyperclip.paste()\n",
    "example_sentences.import_sentences(text=sentences)\n",
    "example_sentences.finish_import()"
   ]
  },
  {
   "cell_type": "markdown",
   "metadata": {},
   "source": [
    "#### Fill in the gap"
   ]
  },
  {
   "cell_type": "markdown",
   "metadata": {},
   "source": [
    "##### Enter the set index here"
   ]
  },
  {
   "cell_type": "code",
   "execution_count": null,
   "metadata": {},
   "outputs": [],
   "source": [
    "gap_filling_set_index = 5\n",
    "\n",
    "gap_filling_exercise = factory.create_exercise(exercise_type='Fill in the gap', word_list=example_sentences.word_list, example_sentences=example_sentences)\n",
    "gap_filling_exercise.finish_import()\n",
    "gap_filling_gatherer.import_exercise(exercise=gap_filling_exercise)\n",
    "gap_filling_exercise_writer.render_template(set_index=gap_filling_set_index)"
   ]
  },
  {
   "cell_type": "markdown",
   "metadata": {},
   "source": [
    "#### Paraphrase"
   ]
  },
  {
   "cell_type": "code",
   "execution_count": null,
   "metadata": {},
   "outputs": [],
   "source": [
    "pyperclip.copy(example_sentences.get_second_prompt())"
   ]
  },
  {
   "cell_type": "markdown",
   "metadata": {},
   "source": [
    "##### Paste the json string here"
   ]
  },
  {
   "cell_type": "code",
   "execution_count": null,
   "metadata": {},
   "outputs": [],
   "source": [
    "analyzed_sentences = pyperclip.paste()\n",
    "example_sentences.import_sentence_analysis(text=analyzed_sentences)"
   ]
  },
  {
   "cell_type": "markdown",
   "metadata": {},
   "source": [
    "##### Enter the set index here"
   ]
  },
  {
   "cell_type": "code",
   "execution_count": null,
   "metadata": {},
   "outputs": [],
   "source": [
    "paraphrase_set_index = 1\n",
    "\n",
    "paraphrase_exercise = factory.create_exercise(exercise_type='Paraphrase', word_list=example_sentences.word_list, example_sentences=example_sentences)\n",
    "paraphrase_exercise.finish_import()\n",
    "paraphrase_gatherer.import_exercise(exercise=paraphrase_exercise)\n",
    "paraphrase_exercise_writer.render_template(set_index=paraphrase_set_index)"
   ]
  },
  {
   "cell_type": "markdown",
   "metadata": {},
   "source": [
    "### Dialogue"
   ]
  },
  {
   "cell_type": "markdown",
   "metadata": {},
   "source": [
    "#### Enter the set index here"
   ]
  },
  {
   "cell_type": "code",
   "execution_count": null,
   "metadata": {},
   "outputs": [],
   "source": [
    "dialogue_start_idx = 11\n",
    "dialogue_end_idx = 20\n",
    "dialogue_set_index = 2\n",
    "\n",
    "dialogue_word_list = tomorrow_new[dialogue_start_idx-1:dialogue_end_idx]\n",
    "# dialogue_word_list = tomorrow_review[dialogue_start_idx-1:dialogue_end_idx]\n",
    "dialogue_exercise = factory.create_exercise(exercise_type='Dialogue', word_list=dialogue_word_list)\n",
    "dialogue_exercise.get_prompt()"
   ]
  },
  {
   "cell_type": "code",
   "execution_count": null,
   "metadata": {},
   "outputs": [],
   "source": [
    "dialogue_dict_text = pyperclip.paste()\n",
    "dialogue_dict = json.loads(dialogue_dict_text)\n",
    "dialogue_exercise.generate_exercise(dialogue_dict=dialogue_dict)\n",
    "dialogue_exercise.finish_import()\n",
    "dialogue_gatherer.import_exercise(exercise=dialogue_exercise)\n",
    "dialogue_exercise_writer.render_template(set_index=dialogue_set_index)"
   ]
  },
  {
   "cell_type": "markdown",
   "metadata": {},
   "source": [
    "## Select the dictionary reader and write Anki Cards"
   ]
  },
  {
   "cell_type": "code",
   "execution_count": null,
   "metadata": {},
   "outputs": [],
   "source": [
    "reader = PhraseReader(word_list=tomorrow_new)\n",
    "\n",
    "entry_list = reader.get_word_entry_list()\n",
    "writer = AnkiCardWriter(entry_list)\n",
    "Path(f'Exports/{date}_{category}').mkdir(parents=True, exist_ok=True)\n",
    "writer.write_cards(f'Exports/{date}_{category}/Anki Cards.csv')"
   ]
  },
  {
   "cell_type": "markdown",
   "metadata": {},
   "source": [
    "## Finish"
   ]
  },
  {
   "cell_type": "code",
   "execution_count": null,
   "metadata": {},
   "outputs": [],
   "source": [
    "configurator.study_n_words(num_of_words_to_learn)"
   ]
  },
  {
   "cell_type": "markdown",
   "metadata": {},
   "source": [
    "## Add Phrases"
   ]
  },
  {
   "cell_type": "code",
   "execution_count": null,
   "metadata": {},
   "outputs": [],
   "source": [
    "notes_paths = 'test.json'\n",
    "\n",
    "phrase_dictionary = PhraseDictionary()\n",
    "phrase_dictionary.import_initial_JSON(notes_paths)\n",
    "phrase_dictionary.get_prompt()"
   ]
  },
  {
   "cell_type": "code",
   "execution_count": null,
   "metadata": {},
   "outputs": [],
   "source": [
    "refined_dict_text = pyperclip.paste()\n",
    "refined_dict = json.loads(refined_dict_text)\n",
    "phrase_dictionary.import_new_entries(refined_dict)"
   ]
  }
 ],
 "metadata": {
  "kernelspec": {
   "display_name": ".venv",
   "language": "python",
   "name": "python3"
  },
  "language_info": {
   "codemirror_mode": {
    "name": "ipython",
    "version": 3
   },
   "file_extension": ".py",
   "mimetype": "text/x-python",
   "name": "python",
   "nbconvert_exporter": "python",
   "pygments_lexer": "ipython3",
   "version": "3.11.6"
  }
 },
 "nbformat": 4,
 "nbformat_minor": 2
}
