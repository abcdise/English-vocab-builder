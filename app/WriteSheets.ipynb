{
 "cells": [
  {
   "cell_type": "code",
   "execution_count": 1,
   "metadata": {},
   "outputs": [],
   "source": [
    "import sys\n",
    "sys.path.insert(1, '../scr')\n",
    "from toolbox import Configurator, AnkiCommunicator, AnkiCardWriter\n",
    "from Collins import Collins_reader\n",
    "from ExerciseWriter import ExerciseWriter\n",
    "from Exercise import ExerciseFactory, ExerciseGatherer, ExampleSentences\n",
    "import pyperclip\n",
    "from pathlib import Path\n",
    "import shutil\n",
    "import json\n",
    "\n",
    "\n",
    "def copy_folder(source_folder, destination_folder) -> None:\n",
    "    destination_path = Path(destination_folder)\n",
    "    source_path = Path(source_folder)\n",
    "    if not destination_path.exists():\n",
    "        shutil.copytree(source_path, destination_path)"
   ]
  },
  {
   "cell_type": "markdown",
   "metadata": {},
   "source": [
    "### Initial set-up"
   ]
  },
  {
   "cell_type": "code",
   "execution_count": 2,
   "metadata": {},
   "outputs": [],
   "source": [
    "# User inputs\n",
    "\n",
    "date = 20240503\n",
    "# category = 'Vocab Workout'\n",
    "category = 'Vocab Explorer'\n",
    "num_of_words_to_learn = 40"
   ]
  },
  {
   "cell_type": "code",
   "execution_count": 3,
   "metadata": {},
   "outputs": [
    {
     "name": "stdout",
     "output_type": "stream",
     "text": [
      "\n",
      "Number of all words: 73;\n",
      "Number of new words: 40;\n",
      "Number of old words: 33.\n",
      "\n"
     ]
    }
   ],
   "source": [
    "# Step 0: Create tmp file\n",
    "tmp_dict = dict()\n",
    "with open('tmp.json', 'w') as file:\n",
    "    json.dump(tmp_dict, file)\n",
    "\n",
    "\n",
    "# Step 1: Get the words to learn for tomorrow\n",
    "configurator = Configurator(json_path=f'../scr/config/{category}/config.json')\n",
    "tomorrow_new_unabridged = configurator.get_n_words_to_learn(num_of_words_to_learn)\n",
    "tmp_dict['tomorrow new unabridged'] = tomorrow_new_unabridged\n",
    "with open('tmp.json', 'w') as file:\n",
    "    json.dump(tmp_dict, file, indent=4)\n",
    "\n",
    "\n",
    "\n",
    "# Step 2: Add the new words to Anki\n",
    "\n",
    "# Step 2.1: Look up the words in the dictionary\n",
    "reader = Collins_reader(word_list=tomorrow_new_unabridged)\n",
    "entry_list = reader.get_word_entry_list()\n",
    "\n",
    "\n",
    "# Step 2.2: Export csv files and add the cards to Anki\n",
    "writer = AnkiCardWriter(entry_list)\n",
    "writer.write_cards(f'Exports/{date}/Anki Cards.csv')\n",
    "\n",
    "\n",
    "# Step 3: Get the words to revisit tomorrow\n",
    "anki = AnkiCommunicator()\n",
    "tomorrow_review_unabridged = anki.get_words_for_tomorrow(deck_name=category, item='Front')\n",
    "tmp_dict['tomorrow review unabridged'] = tomorrow_review_unabridged\n",
    "with open('tmp.json', 'w') as file:\n",
    "    json.dump(tmp_dict, file, indent=4)\n",
    "\n",
    "\n",
    "# Step 4: Shortlist the word lists\n",
    "tomorrow_new = tomorrow_new_unabridged\n",
    "tomorrow_review = tomorrow_review_unabridged\n",
    "tomorrow_all = tomorrow_new + tomorrow_review\n",
    "print(f'''\n",
    "Number of all words: {len(tomorrow_all)};\n",
    "Number of new words: {len(tomorrow_new)};\n",
    "Number of old words: {len(tomorrow_review)}.\n",
    "''')\n",
    "tmp_dict['tomorrow new'] = tomorrow_new\n",
    "tmp_dict['tomorrow review'] = tomorrow_review\n",
    "with open('tmp.json', 'w') as file:\n",
    "    json.dump(tmp_dict, file, indent=4)"
   ]
  },
  {
   "cell_type": "code",
   "execution_count": 4,
   "metadata": {},
   "outputs": [],
   "source": [
    "# Make a new folder\n",
    "template_folder = '../scr/resources/Templates'\n",
    "export_folder = f'./Exports/{date}'\n",
    "copy_folder(template_folder, export_folder)\n",
    "\n",
    "# Set up exercise writer \n",
    "def_template_path = '/Definition/template.tex'\n",
    "def_completion_template_path = '/Definition_Completion/template.tex'\n",
    "reading_template_path = '/Reading/template.tex'\n",
    "gap_filling_template_path = '/Fill-in-the-gap/template.tex'\n",
    "paraphrase_template_path = '/Paraphrase/template.tex'\n",
    "def_output_folder = export_folder + '/Definition'\n",
    "def_completion_output_folder = export_folder + '/Definition_completion'\n",
    "reading_output_folder = export_folder + '/Reading'\n",
    "gap_filling_output_folder = export_folder + '/Fill-in-the-gap'\n",
    "paraphrase_output_folder = export_folder + '/Paraphrase'\n",
    "\n",
    "\n",
    "factory = ExerciseFactory()\n",
    "def_gatherer = ExerciseGatherer()\n",
    "def_writer = ExerciseWriter(gatherer=def_gatherer, template_path=def_template_path, output_folder=def_output_folder)\n",
    "def_completion_gatherer = ExerciseGatherer()\n",
    "def_completion_writer = ExerciseWriter(gatherer=def_completion_gatherer, template_path=def_completion_template_path, output_folder=def_completion_output_folder)\n",
    "reading_gatherer = ExerciseGatherer()\n",
    "reading_exercise_writer = ExerciseWriter(gatherer=reading_gatherer, template_path=reading_template_path, output_folder=reading_output_folder)\n",
    "gap_filling_gatherer = ExerciseGatherer()\n",
    "gap_filling_exercise_writer = ExerciseWriter(gatherer=gap_filling_gatherer, template_path=gap_filling_template_path, output_folder=gap_filling_output_folder)\n",
    "paraphrase_gatherer = ExerciseGatherer()\n",
    "paraphrase_exercise_writer = ExerciseWriter(gatherer=paraphrase_gatherer, template_path=paraphrase_template_path, output_folder=paraphrase_output_folder)"
   ]
  },
  {
   "cell_type": "markdown",
   "metadata": {},
   "source": [
    "### Definition"
   ]
  },
  {
   "cell_type": "markdown",
   "metadata": {},
   "source": [
    "#### Set the word list and the set index here and get the prompt to create definitions"
   ]
  },
  {
   "cell_type": "code",
   "execution_count": null,
   "metadata": {},
   "outputs": [],
   "source": [
    "def_start_idx = 11\n",
    "def_end_idx = 20\n",
    "def_set_index = 2\n",
    "\n",
    "def_word_list = tomorrow_new[def_start_idx-1:def_end_idx]\n",
    "definitions_set = factory.create_exercise(exercise_type='Definition', word_list=def_word_list)"
   ]
  },
  {
   "cell_type": "markdown",
   "metadata": {},
   "source": [
    "#### Method 1: Get the definition from the dictionary"
   ]
  },
  {
   "cell_type": "code",
   "execution_count": null,
   "metadata": {},
   "outputs": [],
   "source": [
    "definitions_set.import_definition_from_dictionary()\n",
    "definitions_set.finish_import()\n",
    "def_gatherer.import_exercise(definitions_set)\n",
    "def_writer.render_template(set_index=def_set_index)"
   ]
  },
  {
   "cell_type": "markdown",
   "metadata": {},
   "source": [
    "#### Method 2 (Obsolete): Create prompt and go to Chat GPT"
   ]
  },
  {
   "cell_type": "code",
   "execution_count": null,
   "metadata": {},
   "outputs": [],
   "source": [
    "definitions_set.create_prompt()\n",
    "definitions_set.get_prompt()"
   ]
  },
  {
   "cell_type": "markdown",
   "metadata": {},
   "source": [
    "##### Paste the definitions here"
   ]
  },
  {
   "cell_type": "code",
   "execution_count": null,
   "metadata": {},
   "outputs": [],
   "source": [
    "definitions = pyperclip.paste()\n",
    "definitions_set.import_definition(text=definitions)\n",
    "definitions_set.finish_import()\n",
    "def_gatherer.import_exercise(definitions_set)\n",
    "def_writer.render_template(set_index=def_set_index)"
   ]
  },
  {
   "cell_type": "markdown",
   "metadata": {},
   "source": [
    "### Definition and Example Completion"
   ]
  },
  {
   "cell_type": "markdown",
   "metadata": {},
   "source": [
    "#### Enter the index"
   ]
  },
  {
   "cell_type": "code",
   "execution_count": null,
   "metadata": {},
   "outputs": [],
   "source": [
    "def_completion_start_idx = 16\n",
    "def_completion_end_idx = 33\n",
    "def_completion_set_index = 6\n",
    "\n",
    "# def_completion_word_list = tomorrow_new[def_completion_start_idx-1:def_completion_end_idx]\n",
    "def_completion_word_list = tomorrow_review[def_completion_start_idx-1:def_completion_end_idx]\n",
    "\n",
    "\n",
    "definition_completion_exercise = factory.create_exercise(exercise_type='Definition and Example Completion', \n",
    "                                                         word_list=def_completion_word_list)\n",
    "definition_completion_exercise.generate_exercise()\n",
    "definition_completion_exercise.finish_import()\n",
    "def_completion_gatherer.import_exercise(definition_completion_exercise)\n",
    "def_completion_writer.render_template(def_completion_set_index)"
   ]
  },
  {
   "cell_type": "markdown",
   "metadata": {},
   "source": [
    "### Reading"
   ]
  },
  {
   "cell_type": "markdown",
   "metadata": {},
   "source": [
    "#### Enter the set index and the word list here"
   ]
  },
  {
   "cell_type": "code",
   "execution_count": null,
   "metadata": {},
   "outputs": [],
   "source": [
    "reading_start_idx = 1\n",
    "reading_end_idx = 15\n",
    "reading_set_index = 1\n",
    "reading_word_list = tomorrow_review[reading_start_idx-1:reading_end_idx]\n",
    "reading_exercise = factory.create_exercise(exercise_type='Reading', word_list=reading_word_list)"
   ]
  },
  {
   "cell_type": "markdown",
   "metadata": {},
   "source": [
    "#### Paste the initial passage here"
   ]
  },
  {
   "cell_type": "code",
   "execution_count": null,
   "metadata": {},
   "outputs": [],
   "source": [
    "initial_passage = pyperclip.paste()\n",
    "reading_exercise.create_prompt(passage=initial_passage)\n",
    "reading_exercise.get_prompt()"
   ]
  },
  {
   "cell_type": "markdown",
   "metadata": {},
   "source": [
    "#### Paste the final passage here"
   ]
  },
  {
   "cell_type": "code",
   "execution_count": null,
   "metadata": {},
   "outputs": [],
   "source": [
    "final_passage = pyperclip.paste()\n",
    "\n",
    "reading_exercise.import_passage(text=final_passage)"
   ]
  },
  {
   "cell_type": "markdown",
   "metadata": {},
   "source": [
    "#### Paste the multiple choice questions here"
   ]
  },
  {
   "cell_type": "code",
   "execution_count": null,
   "metadata": {},
   "outputs": [],
   "source": [
    "multiple_choice = pyperclip.paste()\n",
    "reading_exercise.import_exercise(text=multiple_choice)"
   ]
  },
  {
   "cell_type": "markdown",
   "metadata": {},
   "source": [
    "##### Paste the solution here"
   ]
  },
  {
   "cell_type": "code",
   "execution_count": null,
   "metadata": {},
   "outputs": [],
   "source": [
    "reading_solution = pyperclip.paste()\n",
    "reading_exercise.import_solution(text=reading_solution)\n",
    "reading_exercise.finish_import()\n",
    "reading_gatherer.import_exercise(exercise=reading_exercise)\n",
    "reading_exercise_writer.render_template(set_index=reading_set_index)"
   ]
  },
  {
   "cell_type": "markdown",
   "metadata": {},
   "source": [
    "### Vocabulary exercises"
   ]
  },
  {
   "cell_type": "markdown",
   "metadata": {},
   "source": [
    "#### Set the word list here and get the prompt to create example sentences"
   ]
  },
  {
   "cell_type": "code",
   "execution_count": 24,
   "metadata": {},
   "outputs": [],
   "source": [
    "vocab_start_idx = 16\n",
    "vocab_end_idx = 25\n",
    "repetition = 'two'\n",
    "\n",
    "# vocab_word_list = tomorrow_new[vocab_start_idx-1:vocab_end_idx]\n",
    "vocab_word_list = tomorrow_review[vocab_start_idx-1:vocab_end_idx]\n",
    "\n",
    "example_sentences = ExampleSentences(vocab_word_list)\n",
    "example_sentences.create_prompt(number_of_sentences=repetition)\n",
    "example_sentences.get_prompt()"
   ]
  },
  {
   "cell_type": "markdown",
   "metadata": {},
   "source": [
    "#### Paste the example sentences here"
   ]
  },
  {
   "cell_type": "code",
   "execution_count": 25,
   "metadata": {},
   "outputs": [],
   "source": [
    "sentences = pyperclip.paste()\n",
    "example_sentences.import_sentences(text=sentences)\n",
    "example_sentences.finish_import()"
   ]
  },
  {
   "cell_type": "markdown",
   "metadata": {},
   "source": [
    "#### Fill in the gap"
   ]
  },
  {
   "cell_type": "markdown",
   "metadata": {},
   "source": [
    "##### Enter the set index here"
   ]
  },
  {
   "cell_type": "code",
   "execution_count": 26,
   "metadata": {},
   "outputs": [],
   "source": [
    "gap_filling_set_index = 6\n",
    "\n",
    "gap_filling_exercise = factory.create_exercise(exercise_type='Fill in the gap', word_list=example_sentences.word_list, example_sentences=example_sentences)\n",
    "gap_filling_exercise.finish_import()\n",
    "gap_filling_gatherer.import_exercise(exercise=gap_filling_exercise)\n",
    "gap_filling_exercise_writer.render_template(set_index=gap_filling_set_index)"
   ]
  },
  {
   "cell_type": "markdown",
   "metadata": {},
   "source": [
    "#### Paraphrase"
   ]
  },
  {
   "cell_type": "code",
   "execution_count": 27,
   "metadata": {},
   "outputs": [],
   "source": [
    "pyperclip.copy(example_sentences.get_second_prompt())"
   ]
  },
  {
   "cell_type": "markdown",
   "metadata": {},
   "source": [
    "##### Paste the json string here"
   ]
  },
  {
   "cell_type": "code",
   "execution_count": 30,
   "metadata": {},
   "outputs": [],
   "source": [
    "analyzed_sentences = pyperclip.paste()\n",
    "example_sentences.import_sentence_analysis(text=analyzed_sentences)"
   ]
  },
  {
   "cell_type": "markdown",
   "metadata": {},
   "source": [
    "##### Enter the set index here"
   ]
  },
  {
   "cell_type": "code",
   "execution_count": 31,
   "metadata": {},
   "outputs": [],
   "source": [
    "paraphrase_set_index = 2\n",
    "\n",
    "paraphrase_exercise = factory.create_exercise(exercise_type='Paraphrase', word_list=example_sentences.word_list, example_sentences=example_sentences)\n",
    "paraphrase_exercise.finish_import()\n",
    "paraphrase_gatherer.import_exercise(exercise=paraphrase_exercise)\n",
    "paraphrase_exercise_writer.render_template(set_index=paraphrase_set_index)"
   ]
  },
  {
   "cell_type": "markdown",
   "metadata": {},
   "source": [
    "## Finish"
   ]
  },
  {
   "cell_type": "code",
   "execution_count": 32,
   "metadata": {},
   "outputs": [],
   "source": [
    "configurator.study_n_words(num_of_words_to_learn)"
   ]
  }
 ],
 "metadata": {
  "kernelspec": {
   "display_name": ".venv",
   "language": "python",
   "name": "python3"
  },
  "language_info": {
   "codemirror_mode": {
    "name": "ipython",
    "version": 3
   },
   "file_extension": ".py",
   "mimetype": "text/x-python",
   "name": "python",
   "nbconvert_exporter": "python",
   "pygments_lexer": "ipython3",
   "version": "3.11.6"
  }
 },
 "nbformat": 4,
 "nbformat_minor": 2
}
