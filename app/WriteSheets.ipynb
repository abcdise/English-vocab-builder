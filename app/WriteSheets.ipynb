{
 "cells": [
  {
   "cell_type": "code",
   "execution_count": 1,
   "metadata": {},
   "outputs": [],
   "source": [
    "import sys\n",
    "sys.path.insert(1, '../src')\n",
    "from PhraseDictionary import PhraseDictionary\n",
    "from toolbox import Configurator, AnkiCommunicator, AnkiCardWriter\n",
    "from DictionaryReader import CollinsReader, PhraseReader\n",
    "from ExerciseWriter import ExerciseWriter\n",
    "from Exercise import ExerciseFactory, ExerciseGatherer\n",
    "import pyperclip\n",
    "from pathlib import Path\n",
    "import shutil\n",
    "import json\n",
    "\n",
    "\n",
    "def copy_folder(source_folder, destination_folder) -> None:\n",
    "    destination_path = Path(destination_folder)\n",
    "    source_path = Path(source_folder)\n",
    "    if not destination_path.exists():\n",
    "        shutil.copytree(source_path, destination_path)"
   ]
  },
  {
   "cell_type": "markdown",
   "metadata": {},
   "source": [
    "### Initial set-up"
   ]
  },
  {
   "cell_type": "code",
   "execution_count": 2,
   "metadata": {},
   "outputs": [],
   "source": [
    "# User inputs\n",
    "date = 20010101\n",
    "\n",
    "\n",
    "# Make a new folder\n",
    "template_folder = '../src/resources/Templates'\n",
    "export_folder = f'./Exports/{date}'\n",
    "copy_folder(template_folder, export_folder)\n",
    "\n",
    "# Paths of the templates\n",
    "def_template_path = '/Definition/template.tex'\n",
    "inference_template_path = '/Inference/template.tex'\n",
    "reading_template_path = '/Reading/template.tex'\n",
    "cloze_template_path = '/Cloze/template.tex'\n",
    "gap_filling_template_path = '/Fill-in-the-gap/template.tex'\n",
    "translation_template_path = '/Translation/template.tex'\n",
    "comprehension_template_path = '/Comprehension/template.tex'\n",
    "dialogue_template_path = '/Dialogue/template.tex'\n",
    "\n",
    "# Paths of the output folder\n",
    "def_output_folder = export_folder + '/Definition'\n",
    "inference_output_folder = export_folder + '/Inference'\n",
    "reading_output_folder = export_folder + '/Reading'\n",
    "cloze_output_folder = export_folder + '/Cloze'\n",
    "gap_filling_output_folder = export_folder + '/Fill-in-the-gap'\n",
    "translation_output_folder = export_folder + '/Translation'\n",
    "comprehension_output_folder = export_folder + '/Comprehension'\n",
    "dialogue_output_folder = export_folder + '/Dialogue'\n",
    "\n",
    "# Creation of writers\n",
    "factory = ExerciseFactory()\n",
    "def_gatherer = ExerciseGatherer()\n",
    "def_writer = ExerciseWriter(gatherer=def_gatherer, template_path=def_template_path, output_folder=def_output_folder)\n",
    "inference_gatherer = ExerciseGatherer()\n",
    "inference_writer = ExerciseWriter(gatherer=inference_gatherer, template_path=inference_template_path, output_folder=inference_output_folder)\n",
    "cloze_gatherer = ExerciseGatherer()\n",
    "cloze_exercise_writer = ExerciseWriter(gatherer=cloze_gatherer, template_path=cloze_template_path, output_folder=cloze_output_folder)\n",
    "reading_gatherer = ExerciseGatherer()\n",
    "reading_exercise_writer = ExerciseWriter(gatherer=reading_gatherer, template_path=reading_template_path, output_folder=reading_output_folder)\n",
    "gap_filling_gatherer = ExerciseGatherer()\n",
    "gap_filling_exercise_writer = ExerciseWriter(gatherer=gap_filling_gatherer, template_path=gap_filling_template_path, output_folder=gap_filling_output_folder)\n",
    "comprehension_gatherer = ExerciseGatherer()\n",
    "comprehension_exercise_writer = ExerciseWriter(gatherer=comprehension_gatherer, template_path=comprehension_template_path, output_folder=comprehension_output_folder)\n",
    "translation_gatherer = ExerciseGatherer()\n",
    "translation_exercise_writer = ExerciseWriter(gatherer=translation_gatherer, template_path=translation_template_path, output_folder=translation_output_folder)\n",
    "dialogue_gatherer = ExerciseGatherer()\n",
    "dialogue_exercise_writer = ExerciseWriter(gatherer=dialogue_gatherer, template_path=dialogue_template_path, output_folder=dialogue_output_folder)"
   ]
  },
  {
   "cell_type": "markdown",
   "metadata": {},
   "source": [
    "### Configuration for `Vocab Explorer`"
   ]
  },
  {
   "cell_type": "code",
   "execution_count": null,
   "metadata": {},
   "outputs": [],
   "source": [
    "category = 'Vocab Explorer'\n",
    "# category = 'Vocab Builder'\n",
    "num_of_words_to_learn = 0\n",
    "\n",
    "configurator = Configurator(json_path=f'../src/config/{category}/config.json')\n",
    "tomorrow_new = configurator.get_n_words_to_learn(num_of_words_to_learn)\n",
    "reader = CollinsReader(word_list=tomorrow_new)\n",
    "entry_list = reader.get_word_entry_list()\n",
    "writer = AnkiCardWriter(entry_list)\n",
    "Path(f'Exports/{date}_{category}').mkdir(parents=True, exist_ok=True)\n",
    "writer.write_cards(f'Exports/{date}_{category}/Anki Cards.csv')\n",
    "print('Go to Anki and import the cards from the file Anki Cards.csv')\n",
    "configurator.study_n_words(num_of_words_to_learn)"
   ]
  },
  {
   "cell_type": "code",
   "execution_count": null,
   "metadata": {},
   "outputs": [],
   "source": [
    "anki = AnkiCommunicator()\n",
    "tomorrow_new_with_def = reader.get_concise_dictionary()\n",
    "tomorrow_review_with_def = anki.get_words_for_tomorrow(deck_name=category)\n",
    "tomorrow_review = list(tomorrow_review_with_def.keys())\n",
    "print(f'''\n",
    "Number of new words: {len(tomorrow_new)};\n",
    "Number of old words: {len(tomorrow_review)}.\n",
    "''')"
   ]
  },
  {
   "cell_type": "markdown",
   "metadata": {},
   "source": [
    "### Configuration for `Everyday English`"
   ]
  },
  {
   "cell_type": "code",
   "execution_count": null,
   "metadata": {},
   "outputs": [],
   "source": [
    "category = 'Everyday English'\n",
    "num_of_words_to_learn = 5\n",
    "\n",
    "configurator = Configurator(json_path=f'../src/config/{category}/config.json')\n",
    "tomorrow_new = configurator.get_n_words_to_learn(num_of_words_to_learn)\n",
    "reader = PhraseReader(word_list=tomorrow_new)\n",
    "entry_list = reader.get_word_entry_list()\n",
    "writer = AnkiCardWriter(entry_list)\n",
    "Path(f'Exports/{date}_{category}').mkdir(parents=True, exist_ok=True)\n",
    "writer.write_cards(f'Exports/{date}_{category}/Anki Cards.csv')\n",
    "print('Go to Anki and import the cards from the file Anki Cards.csv')\n",
    "configurator.study_n_words(num_of_words_to_learn)"
   ]
  },
  {
   "cell_type": "code",
   "execution_count": null,
   "metadata": {},
   "outputs": [],
   "source": [
    "anki = AnkiCommunicator()\n",
    "tomorrow_new_with_def = reader.get_concise_dictionary()\n",
    "tomorrow_review_with_def = anki.get_words_for_tomorrow(deck_name=category)\n",
    "tomorrow_review = list(tomorrow_review_with_def.keys())\n",
    "print(f'''\n",
    "Number of new words: {len(tomorrow_new)};\n",
    "Number of old words: {len(tomorrow_review)}.\n",
    "''')"
   ]
  },
  {
   "cell_type": "markdown",
   "metadata": {},
   "source": [
    "### 1. Definition"
   ]
  },
  {
   "cell_type": "markdown",
   "metadata": {},
   "source": [
    "#### Set the word list and the set index here and get the prompt to create definitions"
   ]
  },
  {
   "cell_type": "code",
   "execution_count": 9,
   "metadata": {},
   "outputs": [],
   "source": [
    "def_start_idx = 21\n",
    "def_end_idx = 30\n",
    "def_set_index = 3\n",
    "\n",
    "def_word_list = tomorrow_new[def_start_idx-1:def_end_idx]\n",
    "definitions_set = factory.create_exercise(exercise_type='Definition', word_entries={word: [\"\"] for word in def_word_list})\n",
    "definitions_set.import_definition_from_dictionary()\n",
    "definitions_set.finish_import()\n",
    "def_gatherer.import_exercise(definitions_set)\n",
    "def_writer.render_template(set_index=def_set_index)"
   ]
  },
  {
   "cell_type": "markdown",
   "metadata": {},
   "source": [
    "### 2. Comprehension"
   ]
  },
  {
   "cell_type": "code",
   "execution_count": 18,
   "metadata": {},
   "outputs": [],
   "source": [
    "comprehension_start_idx = 51\n",
    "comprehension_end_idx = 60\n",
    "comprenhension_set_index = 6\n",
    "\n",
    "comprehension_word_list = tomorrow_review[comprehension_start_idx-1:comprehension_end_idx]\n",
    "comprehension_exercise = factory.create_exercise(exercise_type='Comprehension', word_entries={term: tomorrow_review_with_def[term] for term in comprehension_word_list})\n",
    "comprehension_exercise.get_prompt()"
   ]
  },
  {
   "cell_type": "code",
   "execution_count": 19,
   "metadata": {},
   "outputs": [],
   "source": [
    "comprehension_exercise_text = pyperclip.paste()\n",
    "comprehension_exercise.import_exercise(text=comprehension_exercise_text)\n",
    "comprehension_exercise.finish_import()\n",
    "comprehension_gatherer.import_exercise(comprehension_exercise)\n",
    "comprehension_exercise_writer.render_template(comprenhension_set_index)"
   ]
  },
  {
   "cell_type": "markdown",
   "metadata": {},
   "source": [
    "### 3. Inference"
   ]
  },
  {
   "cell_type": "markdown",
   "metadata": {},
   "source": [
    "#### Enter the index"
   ]
  },
  {
   "cell_type": "code",
   "execution_count": 12,
   "metadata": {},
   "outputs": [],
   "source": [
    "inference_start_idx = 11\n",
    "inference_end_idx = 15\n",
    "inference_set_index = 1\n",
    "\n",
    "inference_word_list = tomorrow_review[inference_start_idx-1:inference_end_idx]\n",
    "inference_exercise = factory.create_exercise(exercise_type='Inference', \n",
    "                                                         word_entries={term: tomorrow_review_with_def[term] for term in inference_word_list})\n",
    "\n",
    "inference_exercise.get_prompt()"
   ]
  },
  {
   "cell_type": "code",
   "execution_count": 13,
   "metadata": {},
   "outputs": [],
   "source": [
    "inference_examples_text = pyperclip.paste()\n",
    "inference_exercise.import_sentences(text=inference_examples_text)\n",
    "inference_exercise.get_exercise_prompt()"
   ]
  },
  {
   "cell_type": "code",
   "execution_count": null,
   "metadata": {},
   "outputs": [],
   "source": [
    "inference_exercise_text = pyperclip.paste()\n",
    "inference_exercise.import_exercise(text=inference_exercise_text)\n",
    "inference_exercise.finish_import()\n",
    "inference_gatherer.import_exercise(inference_exercise)\n",
    "inference_writer.render_template(inference_set_index)"
   ]
  },
  {
   "cell_type": "markdown",
   "metadata": {},
   "source": [
    "### 4. Fill in the gaps"
   ]
  },
  {
   "cell_type": "markdown",
   "metadata": {},
   "source": [
    "#### Set the word list here and get the prompt to create example sentences"
   ]
  },
  {
   "cell_type": "code",
   "execution_count": 39,
   "metadata": {},
   "outputs": [],
   "source": [
    "gap_filling_start_idx = 1\n",
    "gap_filling_end_idx = 10\n",
    "gap_filling_set_index = 3\n",
    "\n",
    "# vocab_word_list = tomorrow_new[gap_filling_start_idx-1:gap_filling_end_idx]\n",
    "# vocab_word_entries = {term: tomorrow_new_with_def[term] for term in vocab_word_list}\n",
    "\n",
    "vocab_word_list = tomorrow_review[gap_filling_start_idx-1:gap_filling_end_idx]\n",
    "vocab_word_entries = {term: tomorrow_review_with_def[term] for term in vocab_word_list}\n",
    "\n",
    "\n",
    "gap_filling_exercise = factory.create_exercise(exercise_type='Fill in the gap', word_entries=vocab_word_entries)\n",
    "gap_filling_exercise.get_prompt()"
   ]
  },
  {
   "cell_type": "markdown",
   "metadata": {},
   "source": [
    "#### Paste the example sentences here"
   ]
  },
  {
   "cell_type": "code",
   "execution_count": 40,
   "metadata": {},
   "outputs": [],
   "source": [
    "sentences = pyperclip.paste()\n",
    "gap_filling_exercise.import_sentences(text=sentences)\n",
    "gap_filling_exercise.finish_import()\n",
    "gap_filling_gatherer.import_exercise(exercise=gap_filling_exercise)\n",
    "gap_filling_exercise_writer.render_template(set_index=gap_filling_set_index)"
   ]
  },
  {
   "cell_type": "markdown",
   "metadata": {},
   "source": [
    "### 5. Translation"
   ]
  },
  {
   "cell_type": "code",
   "execution_count": 58,
   "metadata": {},
   "outputs": [],
   "source": [
    "translation_start_idx = 11\n",
    "translation_end_idx = 20\n",
    "translation_set_index = 2\n",
    "\n",
    "translation_word_list = tomorrow_review[translation_start_idx-1:translation_end_idx]\n",
    "translation_exercise = factory.create_exercise(exercise_type='Translation', word_entries={term: tomorrow_review_with_def[term] for term in translation_word_list})\n",
    "translation_exercise.get_prompt()"
   ]
  },
  {
   "cell_type": "code",
   "execution_count": 59,
   "metadata": {},
   "outputs": [],
   "source": [
    "translation_exercise_text = pyperclip.paste()\n",
    "translation_exercise.import_sentences(text=translation_exercise_text)\n",
    "translation_exercise.finish_import()\n",
    "translation_gatherer.import_exercise(translation_exercise)\n",
    "translation_exercise_writer.render_template(translation_set_index)"
   ]
  },
  {
   "cell_type": "markdown",
   "metadata": {},
   "source": [
    "### 6. Cloze"
   ]
  },
  {
   "cell_type": "markdown",
   "metadata": {},
   "source": [
    "#### Enter the set index and the word list here"
   ]
  },
  {
   "cell_type": "code",
   "execution_count": null,
   "metadata": {},
   "outputs": [],
   "source": [
    "cloze_start_idx = 81\n",
    "cloze_end_idx = 83\n",
    "cloze_set_index = 3\n",
    "cloze_word_list = tomorrow_review[cloze_start_idx-1:cloze_end_idx]\n",
    "cloze_exercise = factory.create_exercise(exercise_type='Cloze', word_entries={term: tomorrow_review_with_def[term] for term in cloze_word_list})\n",
    "cloze_exercise.get_prompt()"
   ]
  },
  {
   "cell_type": "markdown",
   "metadata": {},
   "source": [
    "#### Paste the passages here"
   ]
  },
  {
   "cell_type": "code",
   "execution_count": null,
   "metadata": {},
   "outputs": [],
   "source": [
    "passages = pyperclip.paste()\n",
    "cloze_exercise.import_passage(text=passages)\n",
    "cloze_exercise.get_second_prompt()"
   ]
  },
  {
   "cell_type": "markdown",
   "metadata": {},
   "source": [
    "#### Paste the cloze exercise here"
   ]
  },
  {
   "cell_type": "code",
   "execution_count": null,
   "metadata": {},
   "outputs": [],
   "source": [
    "cloze_exercise_text = pyperclip.paste()\n",
    "\n",
    "cloze_exercise.import_exercise(text=cloze_exercise_text)\n",
    "cloze_exercise.finish_import()\n",
    "cloze_gatherer.import_exercise(exercise=cloze_exercise)\n",
    "cloze_exercise_writer.render_template(set_index=cloze_set_index)"
   ]
  },
  {
   "cell_type": "markdown",
   "metadata": {},
   "source": [
    "### 7. Reading"
   ]
  },
  {
   "cell_type": "markdown",
   "metadata": {},
   "source": [
    "#### Enter the set index and the word list here"
   ]
  },
  {
   "cell_type": "code",
   "execution_count": null,
   "metadata": {},
   "outputs": [],
   "source": [
    "reading_start_idx = 1\n",
    "reading_end_idx = 10\n",
    "reading_set_index = 1\n",
    "reading_word_list = tomorrow_review[reading_start_idx-1:reading_end_idx]\n",
    "reading_exercise = factory.create_exercise(exercise_type='Reading', word_entries={term: tomorrow_review_with_def[term] for term in reading_word_list})\n",
    "reading_exercise.get_prompt()"
   ]
  },
  {
   "cell_type": "markdown",
   "metadata": {},
   "source": [
    "#### Paste the passages here"
   ]
  },
  {
   "cell_type": "code",
   "execution_count": null,
   "metadata": {},
   "outputs": [],
   "source": [
    "passages = pyperclip.paste()\n",
    "reading_exercise.import_passage(text=passages)\n",
    "reading_exercise.get_second_prompt()"
   ]
  },
  {
   "cell_type": "markdown",
   "metadata": {},
   "source": [
    "#### Paste the cloze exercise here"
   ]
  },
  {
   "cell_type": "code",
   "execution_count": null,
   "metadata": {},
   "outputs": [],
   "source": [
    "cloze_exercise_text = pyperclip.paste()\n",
    "\n",
    "reading_exercise.import_exercise(text=cloze_exercise_text)\n",
    "reading_exercise.finish_import()\n",
    "reading_gatherer.import_exercise(exercise=reading_exercise)\n",
    "reading_exercise_writer.render_template(set_index=reading_set_index)"
   ]
  },
  {
   "cell_type": "markdown",
   "metadata": {},
   "source": [
    "### 8. Dialogue"
   ]
  },
  {
   "cell_type": "markdown",
   "metadata": {},
   "source": [
    "#### Enter the set index here"
   ]
  },
  {
   "cell_type": "code",
   "execution_count": 61,
   "metadata": {},
   "outputs": [],
   "source": [
    "dialogue_start_idx = 21\n",
    "dialogue_end_idx = 26\n",
    "dialogue_set_index = 2\n",
    "\n",
    "# dialogue_word_list = tomorrow_new[dialogue_start_idx-1:dialogue_end_idx]\n",
    "# dialogue_word_entries = {term: tomorrow_new_with_def[term] for term in dialogue_word_list}\n",
    "\n",
    "dialogue_word_list = tomorrow_review[dialogue_start_idx-1:dialogue_end_idx]\n",
    "dialogue_word_entries = {term: tomorrow_review_with_def[term] for term in dialogue_word_list}\n",
    "\n",
    "dialogue_exercise = factory.create_exercise(exercise_type='Dialogue', word_entries={term: dialogue_word_entries[term] for term in dialogue_word_list})\n",
    "dialogue_exercise.get_prompt()"
   ]
  },
  {
   "cell_type": "code",
   "execution_count": 62,
   "metadata": {},
   "outputs": [],
   "source": [
    "dialogue_dict_text = pyperclip.paste()\n",
    "dialogue_dict = json.loads(dialogue_dict_text)\n",
    "dialogue_exercise.generate_exercise(dialogue_dict=dialogue_dict)\n",
    "dialogue_exercise.finish_import()\n",
    "dialogue_gatherer.import_exercise(exercise=dialogue_exercise)\n",
    "dialogue_exercise_writer.render_template(set_index=dialogue_set_index)"
   ]
  }
 ],
 "metadata": {
  "kernelspec": {
   "display_name": ".venv",
   "language": "python",
   "name": "python3"
  },
  "language_info": {
   "codemirror_mode": {
    "name": "ipython",
    "version": 3
   },
   "file_extension": ".py",
   "mimetype": "text/x-python",
   "name": "python",
   "nbconvert_exporter": "python",
   "pygments_lexer": "ipython3",
   "version": "3.11.6"
  }
 },
 "nbformat": 4,
 "nbformat_minor": 2
}
